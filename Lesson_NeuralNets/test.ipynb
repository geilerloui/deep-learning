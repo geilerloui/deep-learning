{
 "cells": [
  {
   "cell_type": "code",
   "execution_count": null,
   "metadata": {},
   "outputs": [],
   "source": [
    "# define list of files\n",
    "files = ['a.png', 'b.png', 'c.png', 'd.png']\n",
    "    \n",
    "# create a dataset from filenames\n",
    "dataset = tf.data.Dataset.from_tensor_slices(files)"
   ]
  },
  {
   "cell_type": "code",
   "execution_count": null,
   "metadata": {},
   "outputs": [],
   "source": [
    "# Source\n",
    "def load_image(path):\n",
    "    image_string = tf.read_file(path)\n",
    "\n",
    "    # Don't use tf.image.decode_image, or the output shape will be undefined\n",
    "    image = tf.image.decode_jpeg(image_string, channels=3)\n",
    "\n",
    "    # This will convert to float values in [0, 1]\n",
    "    image = tf.image.convert_image_dtype(image, tf.float32)\n",
    "\n",
    "    image = tf.image.resize_images(image, [image_size, image_size])\n",
    "    return image\n",
    "\n",
    "\n",
    "# Apply the function load_image to each filename in the dataset\n",
    "dataset = dataset.map(load_image, num_parallel_calls=8)"
   ]
  },
  {
   "cell_type": "code",
   "execution_count": null,
   "metadata": {},
   "outputs": [],
   "source": [
    "# Create batches of 64 images each\n",
    "dataset = dataset.batch(64)\n",
    "dataset = dataset.prefetch(buffer_size=1)\n",
    "iterator = dataset.make_initializable_iterator()\n",
    "batch_of_images = iterator.get_next()\n"
   ]
  },
  {
   "cell_type": "code",
   "execution_count": null,
   "metadata": {},
   "outputs": [],
   "source": [
    "with tf.Session() as session:\n",
    "    \n",
    "    for i in range(epochs): \n",
    "        session.run(iterator.initializer)\n",
    "        \n",
    "        try:\n",
    "            # Go through the entire dataset\n",
    "            while True:\n",
    "                image_batch = session.run(batch_of_images)\n",
    "                \n",
    "        except tf.errors.OutOfRangeError:\n",
    "            print('End of Epoch.')"
   ]
  }
 ],
 "metadata": {
  "kernelspec": {
   "display_name": "Python 3",
   "language": "python",
   "name": "python3"
  },
  "language_info": {
   "codemirror_mode": {
    "name": "ipython",
    "version": 3
   },
   "file_extension": ".py",
   "mimetype": "text/x-python",
   "name": "python",
   "nbconvert_exporter": "python",
   "pygments_lexer": "ipython3",
   "version": "3.6.8"
  }
 },
 "nbformat": 4,
 "nbformat_minor": 2
}
