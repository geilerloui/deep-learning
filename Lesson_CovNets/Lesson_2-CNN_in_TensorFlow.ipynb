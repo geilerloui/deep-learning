{
 "cells": [
  {
   "cell_type": "markdown",
   "metadata": {},
   "source": [
    "**Given:**\n",
    "\n",
    "* our input layer has a width of W and a height of H\n",
    "* our convolutional layer has a filter size F\n",
    "* we have a stride of S\n",
    "* a padding of P\n",
    "* and the number of filters K,\n",
    "\n",
    "the following formula gives us the width of the next layer: ```W_out =[ (W−F+2P)/S] + 1```\n",
    "\n",
    "The output height would be ```H_out = [(H-F+2P)/S] + 1```.\n",
    "\n",
    "And the output depth would be equal to the number of filters ```D_out = K```.\n",
    "\n",
    "The output volume would be ```W_out * H_out * D_out```.\n",
    "\n",
    "Example:\n",
    "\n",
    "We have a 5x5 grid and a filter of size 3x3 with stride of 1 what's the width and height of the next layer ?\n",
    "\n",
    "W=5, H=5, F=3, S=1, output:\n",
    "* H_out = ((5-3+0)/1)+1 = 3\n",
    "* W_out = ((5-3+0)/1)+1 = 3\n",
    "> So an output image of size 3x3\n",
    "\n",
    "????? Je comprends pas le paramètre P, on a toujours 0 Padding. + rajouter exemple avec padding"
   ]
  },
  {
   "cell_type": "markdown",
   "metadata": {},
   "source": [
    "------\n",
    "\n",
    "Truc sur le nombre de paramètre avec le colah blog"
   ]
  },
  {
   "cell_type": "markdown",
   "metadata": {},
   "source": [
    "----\n",
    "\n",
    "Cours FUN Mooc: S2-5 Convolution layer:\n",
    "\n",
    "Lui il appelle le \"filtre\" un masque de convolution, le tenseur est définit comme le stacking des réseaux convolutifs. C'est le résultat du filtrage.\n",
    "\n",
    "hiérarchie: on veut appliquer une convolution à la sortie du filtrage.\n",
    "\n"
   ]
  },
  {
   "cell_type": "code",
   "execution_count": null,
   "metadata": {},
   "outputs": [],
   "source": []
  },
  {
   "cell_type": "markdown",
   "metadata": {},
   "source": [
    "### Convolutional Layers\n",
    "\n",
    "The image below is an example of a [convolution](https://en.wikipedia.org/wiki/Convolution) with a 3x3 filter and a stride of 1.\n",
    "\n",
    "<img src=\"https://d17h27t6h515a5.cloudfront.net/topher/2017/May/5913f852_convolution-schematic/convolution-schematic.gif\" alt=\"\" width=\"263px\" class=\"index--image--1wh9w\">\n",
    "\n",
    "<p>Convolution with 3×3 Filter.  Source: <a target=\"_blank\" href=\"http://deeplearning.stanford.edu/wiki/index.php/Feature_extraction_using_convolution\">http://deeplearning.stanford.edu/wiki/index.php/Feature_extraction_using_convolution</a></p>\n",
    "\n",
    "The convolution for each 3x3 section is calculated against the weight, ```[[1, 0, 1], [0, 1, 0], [1, 0, 1]]```, and then a bias is added to create the convolved feature on the right. In this case, the bias is zero.\n",
    "\n",
    "### Convolutional Layers in TensorFlow\n",
    "\n",
    "Let's examine how to implement a convolutional layer in TensorFlow.\n",
    "\n",
    "TensorFlow provides the ```tf.nn.conv2d()```, ```tf.nn.bias_add()```, and ```tf.nn.relu()``` functions to create your own convolutional layers."
   ]
  },
  {
   "cell_type": "code",
   "execution_count": 1,
   "metadata": {},
   "outputs": [],
   "source": [
    "import tensorflow as tf\n",
    "\n",
    "# output depth\n",
    "k_output = 64\n",
    "\n",
    "# image dimensions\n",
    "image_width = 10\n",
    "image_height = 10\n",
    "color_channels = 3\n",
    "\n",
    "# convolution filter dimensions\n",
    "filter_size_width = 5\n",
    "filter_size_height = 5\n",
    "\n",
    "# input/image\n",
    "input = tf.placeholder(\n",
    "    tf.float32,\n",
    "    shape=[None, image_height, image_width, color_channels])\n",
    "\n",
    "# weight and bias\n",
    "weight = tf.Variable(tf.truncated_normal(\n",
    "    [filter_size_height, filter_size_width, color_channels, k_output]))\n",
    "bias = tf.Variable(tf.zeros(k_output))\n",
    "\n",
    "# apply convolution\n",
    "conv_layer = tf.nn.conv2d(input, weight, strides=[1, 2, 2, 1], padding='SAME')\n",
    "# add bias\n",
    "conv_layer = tf.nn.bias_add(conv_layer, bias)\n",
    "# apply activation function\n",
    "conv_layer = tf.nn.relu(conv_layer)"
   ]
  },
  {
   "cell_type": "code",
   "execution_count": 2,
   "metadata": {},
   "outputs": [
    {
     "data": {
      "text/plain": [
       "TensorShape([Dimension(5), Dimension(5), Dimension(3), Dimension(64)])"
      ]
     },
     "execution_count": 2,
     "metadata": {},
     "output_type": "execute_result"
    }
   ],
   "source": [
    "weight.shape"
   ]
  },
  {
   "cell_type": "markdown",
   "metadata": {},
   "source": [
    "The code above uses the ```tf.nn.conv2d()``` function to compute the convolution with ```weight``` as the filter and ```[1, 2, 2, 1]``` for the strides.\n",
    "\n",
    "* TensorFlow uses a stride for each ```input``` dimension, ```[batch, input_height, input_width, input_channels]```.\n",
    "* We generally always set the stride for ```batch``` and ```input_channels``` (i.e. the first and fourth element in the strides array) to be 1. This ensures that the model uses all batches and input channels. (It's good practice to remove the batches or channels you want to skip from the data set rather than use a stride to skip them.)\n",
    "* You'll focus on changing ```input_height``` and ```input_width``` (while setting ```batch``` and ```input_channels``` to 1). The ```input_height``` and ```input_width``` strides are for striding the filter over ```input```. This example code uses a stride of 2 with 5x5 filter over ```input```. I've mentioned stride as one number because you usually have a square stride where ```height = width```. When someone says they are using a stride of 2, they usually mean ```tf.nn.conv2d(x, W, strides=[1, 2, 2, 1])```.\n",
    "\n",
    "The ```tf.nn.bias_add()``` function adds a 1-d bias to the last dimension in a matrix. (**Note: using ```tf.add()``` doesn't work when the tensors aren't the same shape.**)\n",
    "\n",
    "The ```tf.nn.relu()``` function applies a ReLU activation function to the layer."
   ]
  },
  {
   "cell_type": "markdown",
   "metadata": {},
   "source": [
    "### Using Convolutional Layers in TensorFlow\n",
    "\n",
    "Let's now build a convolutional layer in TensorFlow. In the below exercise, you'll be asked to set up the dimensions of the convolution filters, the weights, and the biases. This is in many ways the trickiest part to using CNNs in TensorFlow. Once you have a sense of how to set up the dimensions of these attributes, applying CNNs will be far more straightforward.\n",
    "\n",
    "### Review\n",
    "\n",
    "<p>You should go over the TensorFlow documentation for <a target=\"_blank\" href=\"https://www.tensorflow.org/api_docs/python/tf/nn/conv2d\">2D convolutions</a>. Most of the documentation is straightforward, except perhaps the <code>padding</code> argument. The padding might differ depending on whether you pass <code>'VALID'</code> or <code>'SAME'</code>.</p>\n",
    "\n",
    "Here are a few more things worth reviewing:\n",
    "\n",
    "1. Introduction to TensorFlow -> [TensorFlow Variables](https://www.tensorflow.org/guide/variables).\n",
    "2. How to determine the dimensions of the output based on the input size and the filter size (shown below). You'll use this to determine what the size of your filter should be.\n",
    "\n",
    "```\n",
    "new_height = (input_height - filter_height + 2 * P)/S + 1\n",
    " new_width = (input_width - filter_width + 2 * P)/S + 1\n",
    "```\n",
    "\n",
    "#### Instructions\n",
    "1. Finish off each ```TODO``` in the ```conv2d``` function.\n",
    "2. Set up the ```strides```, ```padding```, filter weight (```F_w```), and filter bias (```F_b```) such that the output shape is ```(1, 2, 2, 3)```. Note that all of these except ```strides``` should be TensorFlow variables.\n"
   ]
  },
  {
   "cell_type": "code",
   "execution_count": null,
   "metadata": {},
   "outputs": [],
   "source": [
    "\"\"\"\n",
    "Setup the strides, padding and filter weight/bias such that\n",
    "the output shape is (1, 2, 2, 3).\n",
    "\"\"\"\n",
    "import tensorflow as tf\n",
    "import numpy as np\n",
    "\n",
    "# `tf.nn.conv2d` requires the input be 4D (batch_size, height, width, depth)\n",
    "# (1, 4, 4, 1)\n",
    "x = np.array([\n",
    "    [0, 1, 0.5, 10],\n",
    "    [2, 2.5, 1, -8],\n",
    "    [4, 0, 5, 6],\n",
    "    [15, 1, 2, 3]], dtype=np.float32).reshape((1, 4, 4, 1))\n",
    "X = tf.constant(x)\n",
    "\n",
    "\n",
    "def conv2d(input):\n",
    "    # Filter (weights and bias)\n",
    "    # The shape of the filter weight is (height, width, input_depth, output_depth)\n",
    "    # The shape of the filter bias is (output_depth,)\n",
    "    # TODO: Define the filter weights `F_W` and filter bias `F_b`.\n",
    "    # NOTE: Remember to wrap them in `tf.Variable`, they are trainable parameters after all.\n",
    "    F_W = tf.Variable(tf.truncated_normal((2, 2, 1, 3)))\n",
    "    F_b = tf.Variable(tf.zeros(3))\n",
    "    # TODO: Set the stride for each dimension (batch_size, height, width, depth)\n",
    "    strides = [1, 2, 2, 1]\n",
    "    # TODO: set the padding, either 'VALID' or 'SAME'.\n",
    "    padding = 'VALID'\n",
    "    # https://www.tensorflow.org/versions/r0.11/api_docs/python/nn.html#conv2d\n",
    "    # `tf.nn.conv2d` does not include the bias computation so we have to add it ourselves after.\n",
    "    x = tf.nn.conv2d(input, F_W, strides, padding)\n",
    "    return tf.nn.bias_add(x, F_b)\n",
    "\n",
    "out = conv2d(X)\n",
    "\n"
   ]
  },
  {
   "cell_type": "markdown",
   "metadata": {},
   "source": [
    "### Max Pooling Layers in TensorFlow\n",
    "\n",
    "The image below is an example of [max pooling](https://en.wikipedia.org/wiki/Convolutional_neural_network#Pooling_layer) with a 2x2 filter and stride of 2. The four 2x2 colors represent each time the filter was applied to find the maximum value.\n",
    "\n",
    "<img src=\"https://d17h27t6h515a5.cloudfront.net/topher/2016/November/582aac09_max-pooling/max-pooling.png\" alt=\"\" width=\"570px\" class=\"index--image--1wh9w\">\n",
    "\n",
    "For example, ```[[1, 0], [4, 6]]``` becomes ```6```, because ```6``` is the maximum value in this set. Similarly, ```[[2, 3], [6, 8]]``` becomes ```8```.\n",
    "\n",
    "Conceptually, the benefit of the max pooling operation is to reduce the size of the input, and allow the neural network to focus on only the most important elements. Max pooling does this by only retaining the maximum value for each filtered area, and removing the remaining values.\n",
    "\n",
    "TensorFlow provides the ```tf.nn.max_pool()``` function to apply [max pooling](https://en.wikipedia.org/wiki/Convolutional_neural_network#Pooling_layer) to your convolutional layers.\n",
    "\n",
    "```\n",
    "...\n",
    "conv_layer = tf.nn.conv2d(input, weight, strides=[1, 2, 2, 1], padding='SAME')\n",
    "conv_layer = tf.nn.bias_add(conv_layer, bias)\n",
    "conv_layer = tf.nn.relu(conv_layer)\n",
    "# apply max pooling\n",
    "conv_layer = tf.nn.max_pool(\n",
    "    conv_layer,\n",
    "    ksize=[1, 2, 2, 1],\n",
    "    strides=[1, 2, 2, 1],\n",
    "    padding='SAME')\n",
    "````\n",
    "\n",
    "The ```tf.nn.max_pool()``` function performs max pooling with the ```ksize``` parameter as the size of the filter and the ```strides``` parameter as the length of the stride. 2x2 filters with a stride of 2x2 are common in practice.\n",
    "\n",
    "The ```ksize``` and ```strides``` parameters are structured as 4-element lists, with each element corresponding to a dimension of the input tensor ```([batch, height, width, channels])```. For both ```ksize``` and ```strides```, the batch and channel dimensions are typically set to ```1```.\n",
    "\n",
    "### Using Max Pooling Layers in TensorFlow\n",
    "In the below exercise, you'll be asked to set up the dimensions of the pooling filters, strides, as well as the appropriate padding.\n",
    "\n",
    "#### Review\n",
    "You should go over the TensorFlow documentation for tf.nn.max_pool(). Padding works the same as it does for a convolution.\n",
    "\n",
    "#### Instructions\n",
    "\n",
    "1. Finish off each ```TODO``` in the ```maxpool``` function.\n",
    "2. Setup the ```strides```, ```padding``` and ```ksize``` such that the output shape after pooling is ```(1, 2, 2, 1)```."
   ]
  },
  {
   "cell_type": "code",
   "execution_count": null,
   "metadata": {},
   "outputs": [],
   "source": [
    "\"\"\"\n",
    "Set the values to `strides` and `ksize` such that\n",
    "the output shape after pooling is (1, 2, 2, 1).\n",
    "\"\"\"\n",
    "import tensorflow as tf\n",
    "import numpy as np\n",
    "\n",
    "# `tf.nn.max_pool` requires the input be 4D (batch_size, height, width, depth)\n",
    "# (1, 4, 4, 1)\n",
    "x = np.array([\n",
    "    [0, 1, 0.5, 10],\n",
    "    [2, 2.5, 1, -8],\n",
    "    [4, 0, 5, 6],\n",
    "    [15, 1, 2, 3]], dtype=np.float32).reshape((1, 4, 4, 1))\n",
    "X = tf.constant(x)\n",
    "\n",
    "def maxpool(input):\n",
    "    # TODO: Set the ksize (filter size) for each dimension (batch_size, height, width, depth)\n",
    "    ksize = [?, ?, ?, ?]\n",
    "    # TODO: Set the stride for each dimension (batch_size, height, width, depth)\n",
    "    strides = [?, ?, ?, ?]\n",
    "    # TODO: set the padding, either 'VALID' or 'SAME'.\n",
    "    padding = ?\n",
    "    # https://www.tensorflow.org/versions/r0.11/api_docs/python/nn.html#max_pool\n",
    "    return tf.nn.max_pool(input, ksize, strides, padding)\n",
    "    \n",
    "out = maxpool(X)"
   ]
  },
  {
   "cell_type": "code",
   "execution_count": null,
   "metadata": {},
   "outputs": [],
   "source": []
  }
 ],
 "metadata": {
  "kernelspec": {
   "display_name": "Python 3",
   "language": "python",
   "name": "python3"
  },
  "language_info": {
   "codemirror_mode": {
    "name": "ipython",
    "version": 3
   },
   "file_extension": ".py",
   "mimetype": "text/x-python",
   "name": "python",
   "nbconvert_exporter": "python",
   "pygments_lexer": "ipython3",
   "version": "3.6.8"
  }
 },
 "nbformat": 4,
 "nbformat_minor": 2
}
